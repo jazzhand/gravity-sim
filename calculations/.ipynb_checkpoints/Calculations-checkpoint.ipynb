{
 "cells": [
  {
   "cell_type": "markdown",
   "metadata": {
    "deletable": true,
    "editable": true
   },
   "source": [
    "# Astronomical Calculations"
   ]
  },
  {
   "cell_type": "markdown",
   "metadata": {},
   "source": [
    "## Description\n",
    "\n",
    "![Earth-Moon System](earth_moon_diagram.svg)\n",
    "Figure 1"
   ]
  },
  {
   "cell_type": "markdown",
   "metadata": {
    "deletable": true,
    "editable": true
   },
   "source": [
    "As the Earth pulls on the Moon, so the Moon pulls on the Earth, with an equal and opposite force. The Moon travels around the Earth at an average angular velocity of 1.022 km/s.\n",
    "\n",
    "Suppose the Earth starts off stationary (i.e zero velocity) and the Moon is set forth with it's average velocity. Intuition would grant a stable orbit of the Moon around the Earth with the Earth staying in the middle of the display. However, this is not what happens in the simulation. Instead, the Earth nudges it's way off the display in the direction of the Moon's initial velocity (with the Moon still orbiting). Thus the Earth needs an initial velocity to keep the system stable."
   ]
  },
  {
   "cell_type": "markdown",
   "metadata": {
    "deletable": true,
    "editable": true
   },
   "source": [
    "## Goal\n",
    "\n",
    "We want to know the initial velocity $v_{i}$ needed by the Earth to keep it's displacement in space as small as possible. In a more mathematical sense,\n",
    "\n",
    "$$\n",
    "    \\Delta \\mathbf{z} < d \\quad\\text{as}\\quad t \\rightarrow \\infty\n",
    "$$\n",
    "\n",
    "with $\\mathbf z$ representing the $x$-$y$ location of the earth and $d$ being some threshhold displacement."
   ]
  },
  {
   "cell_type": "markdown",
   "metadata": {
    "deletable": true,
    "editable": true
   },
   "source": [
    "## Initial Assumptions\n",
    "\n",
    "- The distance between the Earth and the Moon is constant at $384\\,400\\,000$ m.\n",
    "    - This means the Moon forms a concentric orbit around the Earth.\n",
    "    - Thus, the gravitational force between the Earth and Moon stays constant.\n",
    "- The moon travels around the Earth at a constant angular velocity of $1\\,022$ m/s.\n",
    "- The mass of the Earth and the Moon do not change.\n",
    "- No other astronomical bodies (such as the Sun) influence the the Earth-Moon system."
   ]
  },
  {
   "cell_type": "markdown",
   "metadata": {
    "deletable": true,
    "editable": true
   },
   "source": [
    "The force between the Earth and the Moon is described by Newton's law of universal gravitation\n",
    "\n",
    "$$\n",
    "    F = G\\frac{m_{1}m_{2}}{r^{2}}\n",
    "$$\n",
    "where $G = 6.67408 \\times 10^{-11}$, $ m_{i}$ the masses of the objects involved and $r$ the distance between the objects."
   ]
  },
  {
   "cell_type": "markdown",
   "metadata": {
    "deletable": true,
    "editable": true
   },
   "source": [
    "In the case of the Earth and the Moon, the average distance between them is $r = 384\\,400\\,000$ m. The mass of the Earth is $m_{1} = 5.972 \\times 10^{24}$ and the mass of the moon is $m_{2} = 7.348 \\times 10^{22}$.\n",
    "Thus the average force between the Earth and the Moon is\n",
    "\n",
    "$$\n",
    "    F\\ =\\ G\\, \\frac{\\left(5.972 \\times 10^{24}\\right) \\left(7.348 \\times 10^{22}\\right)}\n",
    "                {\\left(3.844 \\times 10^{8}\\right)^{2}}\n",
    "$$"
   ]
  },
  {
   "cell_type": "code",
   "execution_count": 2,
   "metadata": {
    "collapsed": false,
    "deletable": true,
    "editable": true
   },
   "outputs": [
    {
     "data": {
      "text/plain": [
       "1.982045394233591e+20"
      ]
     },
     "execution_count": 2,
     "metadata": {},
     "output_type": "execute_result"
    }
   ],
   "source": [
    "G = 6.67408e-11\n",
    "m1 = 5.972e24\n",
    "m2 = 7.348e22\n",
    "r = 3.844e8\n",
    "\n",
    "force = G * m1 * m2 / r**2\n",
    "force"
   ]
  },
  {
   "cell_type": "markdown",
   "metadata": {
    "deletable": true,
    "editable": true
   },
   "source": [
    "Thus, the average force between the Earth and the Moon is \n",
    "\n",
    "$$\n",
    "    F_{c} = 1.98 \\times 10^{20}.\n",
    "$$"
   ]
  },
  {
   "cell_type": "markdown",
   "metadata": {
    "deletable": true,
    "editable": true
   },
   "source": [
    "## Visual Aids"
   ]
  },
  {
   "cell_type": "markdown",
   "metadata": {
    "deletable": true,
    "editable": true
   },
   "source": [
    "![earth_moon_diagram](earth_moon_gravity_export.svg)\n",
    "Figure 2"
   ]
  },
  {
   "cell_type": "markdown",
   "metadata": {
    "deletable": true,
    "editable": true
   },
   "source": [
    "We will concern ourselves just with the $y$-velocity of the earth, denoted as $v_{e}$, and the $y$-forces on the earth, denoted by $F_{y}$.\n",
    "\n",
    "The following table shows the state of the system at each point described in the diagram.\n",
    "\n",
    "<table style=\"width: 50%\">\n",
    "    <thead>\n",
    "        <th style=\"text-align: center;\">Position</th> <th>$\\theta$</th> <th>$v_{e}$</th> <th>$F_{y}$</th> \n",
    "    </thead>\n",
    "    <tbody>\n",
    "        <tr>\n",
    "            <th style=\"text-align: center;\">A</th> <td>0</td> <td>$v_{i}$</td> <td>0</td>\n",
    "        </tr>\n",
    "        <tr>\n",
    "            <th style=\"text-align: center;\">B</th> <td>$\\pi/2$</td> <td>$0$</td> <td>$F_{c}$</td>\n",
    "        </tr>\n",
    "        <tr>\n",
    "            <th style=\"text-align: center;\">C</th> <td>$\\pi$</td> <td>$-v_{i}$</td> <td>$0$</td>\n",
    "        </tr>\n",
    "        <tr>\n",
    "            <th style=\"text-align: center;\">D</th> <td>$3\\pi/2$</td> <td>$0$</td> <td>$-F_{c}$</td>\n",
    "        </tr>\n",
    "    </tbody>\n",
    "</table>"
   ]
  },
  {
   "cell_type": "markdown",
   "metadata": {
    "deletable": true,
    "editable": true
   },
   "source": [
    "To get the initial velocity $v_{i}$ of the Earth needed for these stated conditions, we need to sum up all the forces $dF$ from point A to B letting the velocity equal zero at point B. \n",
    "The force $F_{y}$ is modelled by $F_{y} = F_{c}\\sin\\theta$.\n",
    "\n",
    "The moon takes $27.3215$ days to orbit the earth. So at point **A** and thus $t = 0$, we start at day $0$. Point **B** is a quarter of the lunar orbit ($\\theta = \\pi/2$) so it is at day $\\frac{27.3215}{4} = 6.8304$ days. So $\\Delta t = 6.8304$ days. In seconds, this equates to $\\Delta t = 590144.4$\n",
    "\n",
    "Also,\n",
    "$$ \n",
    "    F = m\\left(\\frac{v_{f} - v_{i}}{\\Delta t}\\right).\n",
    "$$\n",
    "\n",
    "Now,\n",
    "\n",
    "$$\n",
    "    \\int_{0}^{\\pi/2} F_{y}\\,d\\theta\\ =\\ - m_{e}\\frac{0 - v_{i}}{\\Delta t} \\\\\n",
    "    \\int_{0}^{\\pi/2} F_{c}\\sin\\theta\\, d\\theta\\ =\\ \\frac{m_{e}v_{i}}{\\Delta t} \\\\\n",
    "    F_{c} \\big[-\\cos\\theta\\big]_{0}^{\\pi/2}\\ =\\  \\frac{m_{e}v_{i}}{\\Delta t} \\\\\n",
    "    F_{c}\\ =\\ \\frac{m_{e}v_{i}}{\\Delta t}\n",
    "$$\n",
    "\n",
    "The problem seems well posed. Let's plug stuff in and see what happens.\n",
    "\n",
    "$$\n",
    "    v_{i}\\ =\\ \\frac{F_{c}\\Delta t}{m_{e}}\n",
    "$$"
   ]
  },
  {
   "cell_type": "code",
   "execution_count": 3,
   "metadata": {
    "collapsed": false,
    "deletable": true,
    "editable": true
   },
   "outputs": [
    {
     "data": {
      "text/plain": [
       "19.586285833100234"
      ]
     },
     "execution_count": 3,
     "metadata": {},
     "output_type": "execute_result"
    }
   ],
   "source": [
    "dt = 590144.4\n",
    "\n",
    "v_init = (force * dt)/m1\n",
    "v_init"
   ]
  },
  {
   "cell_type": "markdown",
   "metadata": {
    "deletable": true,
    "editable": true
   },
   "source": [
    "Sad face. This is not what trial and error produced. It is, however, in the right order of magnitude."
   ]
  },
  {
   "cell_type": "markdown",
   "metadata": {
    "deletable": true,
    "editable": true
   },
   "source": [
    "## Revised Assumptions\n",
    "\n",
    "The assumption that the Moon orbits the Earth at a fixed distance is a very leniant assumption. It means the gravitational force stays constant all the time. This is why it was an initial assumption, because it is easy to work with.\n",
    "\n",
    "- Let's assume the Moon's orbit follows a fixed *elliptical* path.\n",
    "    - This means the force between the Earth and Moon varies in a cyclic fashion, \n",
    "      always producing the same force $\\vec{F}$ for the same angle $\\theta$."
   ]
  },
  {
   "cell_type": "markdown",
   "metadata": {
    "deletable": true,
    "editable": true
   },
   "source": [
    "The force between the Earth and the moon as a function of $\\theta$ is \n",
    "$$ \n",
    "    \\vec{F(\\theta)}\\ =\\ \\left(1 - \\frac{\\theta}{\\pi/2}\\right)\\vec{F_{1}} + \\frac{\\theta}{\\pi/2}\\vec{F_{2}} \\\\\n",
    "    =\\ \\frac{2}{\\pi} \\bigg[\\left(\\frac{\\pi}{2} - \\theta\\right)\\vec{F_{1}}\\ +\\ \\theta\\vec{F_{2}}\\bigg]\n",
    "$$\n",
    "with $F_{1}$ being the gravitational force at position **A** and $F_{2}$ the gravitational force at position **B**, as marked on Figure 1."
   ]
  },
  {
   "cell_type": "markdown",
   "metadata": {
    "deletable": true,
    "editable": true
   },
   "source": [
    "Since the Earth needs an initial velocity opposite to the Moon's initial velocity and because the Moon's initial velocity is only in the $y$-direction, we only consider the forces on the $y$-axis.\n",
    "\n",
    "At position **A**, the $y$-force is zero since gravitation is only occuring on the $x$-axis. At position **B**, the force is completely on the $y$-axis, equal to a force say $F_{2}$. The sine function can model this behaviour. Thus,\n",
    "\n",
    "$$\n",
    "    F_{y}(\\theta)\\ =\\ \\frac{2}{\\pi} \\bigg[\\left(\\frac{\\pi}{2} - \\theta\\right)F_{1}\\ +\\ \\theta F_{2}\\bigg]\n",
    "    \\sin \\theta\n",
    "$$"
   ]
  },
  {
   "cell_type": "markdown",
   "metadata": {
    "deletable": true,
    "editable": true
   },
   "source": [
    "Let's integrate stuff again\n",
    "\n",
    "$$\n",
    "    \\begin{align}\n",
    "    \\int_{0}^{\\pi/2} F_{y}\\,d\\theta\n",
    "    &=\\ \\int_{0}^{\\pi/2} \\frac{2}{\\pi} \\bigg[\\left(\\frac{\\pi}{2} - \\theta\\right)F_{1}\\ +\\ \\theta F_{2}\\bigg]\n",
    "        \\sin \\theta\\,d\\theta \\\\\n",
    "    &=\\ \\frac{2}{\\pi}F_{1}\\int_{0}^{\\pi/2}\\left(\\frac{\\pi}{2} - \\theta\\right)\\sin\\theta\\,d\\theta\\\n",
    "        +\\ \\frac{2}{\\pi}F_{2}\\int_{0}^{\\pi/2}\\theta\\sin\\theta\\,d\\theta \\\\\n",
    "    &=\\ F_{1}\\int_{0}^{\\pi/2}\\sin\\theta\\,d\\theta\\ -\\ \\frac{2}{\\pi}\\int_{0}^{\\pi/2}\\theta\\sin\\theta\\,d\\theta\\\n",
    "        +\\ \\frac{2}{\\pi}F_{2}\\int_{0}^{\\pi/2}\\theta\\sin\\theta\\,d\\theta \\\\\n",
    "    &=\\ F_{1}\\int_{0}^{\\pi/2}\\sin\\theta\\,d\\theta\\ \n",
    "        +\\ \\frac{2}{\\pi}\\big(F_{2} - F_{1}\\big)\\int_{0}^{\\pi/2}\\theta\\sin\\theta\\,d\\theta \\\\\n",
    "    \\end{align}\n",
    "$$\n",
    "\n",
    "Let us use integration by parts on the last integral\n",
    "\n",
    "$$\n",
    "    \\int_{0}^{\\pi/2}\\theta\\sin\\theta\\,d\\theta\\ =\\ \n",
    "        -\\theta\\cos\\theta\\,\\bigg\\rvert_{0}^{\\pi/2} + \\int_{0}^{\\pi/2}\\cos\\theta\\,d\\theta \\\\\n",
    "    =\\ \\big[\\sin\\theta\\big]_{0}^{\\pi/2}\n",
    "$$\n",
    "\n",
    "Place this result back into the main equation,\n",
    "\n",
    "$$\n",
    "    - F_{1}\\big[\\cos\\theta\\big]_{0}^{\\pi/2}\\ \n",
    "        +\\ \\frac{2}{\\pi}\\big(F_{2} - F_{1}\\big)\\big[\\sin\\theta\\big]_{0}^{\\pi/2}\\\\\n",
    "    =\\ F_{1} + \\frac{2}{\\pi}\\big(F_{2} - F_{1}\\big) \\\\\n",
    "    =\\ \\frac{2}{\\pi}F_{2} - \\bigg(1 + \\frac{2}{\\pi}\\bigg)F_{1}\n",
    "$$"
   ]
  },
  {
   "cell_type": "markdown",
   "metadata": {},
   "source": [
    "At point **B**, the force $F_{2}$ can be ...."
   ]
  }
 ],
 "metadata": {
  "kernelspec": {
   "display_name": "Python 3",
   "language": "python",
   "name": "python3"
  },
  "language_info": {
   "codemirror_mode": {
    "name": "ipython",
    "version": 3
   },
   "file_extension": ".py",
   "mimetype": "text/x-python",
   "name": "python",
   "nbconvert_exporter": "python",
   "pygments_lexer": "ipython3",
   "version": "3.5.2"
  }
 },
 "nbformat": 4,
 "nbformat_minor": 2
}
